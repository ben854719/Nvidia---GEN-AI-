{
  "nbformat": 4,
  "nbformat_minor": 0,
  "metadata": {
    "colab": {
      "provenance": [],
      "authorship_tag": "ABX9TyOJeaWe5IQNiANYDkYVqfBB",
      "include_colab_link": true
    },
    "kernelspec": {
      "name": "python3",
      "display_name": "Python 3"
    },
    "language_info": {
      "name": "python"
    }
  },
  "cells": [
    {
      "cell_type": "markdown",
      "metadata": {
        "id": "view-in-github",
        "colab_type": "text"
      },
      "source": [
        "<a href=\"https://colab.research.google.com/github/ben854719/Nvidia---GEN-AI-/blob/main/Nvidia.ipynb\" target=\"_parent\"><img src=\"https://colab.research.google.com/assets/colab-badge.svg\" alt=\"Open In Colab\"/></a>"
      ]
    },
    {
      "cell_type": "code",
      "execution_count": null,
      "metadata": {
        "id": "bo2nNxnHXgFe"
      },
      "outputs": [],
      "source": [
        "import pandas as pd\n",
        "import numpy as np\n",
        "import matplotlib.pyplot as plt\n",
        "import matplotlib.dates as mdates\n",
        "from sklearn.model_selection import train_test_split\n",
        "from sklearn.preprocessing import StandardScaler\n",
        "import torch\n",
        "import torch.nn as nn\n",
        "import torch.optim as optim"
      ]
    },
    {
      "cell_type": "code",
      "source": [
        "# import the dataset from Nvidia.\n",
        "Stock_Nvidia_df = pd.read_csv('Stock_Nvidia.csv')\n",
        "\n",
        "# Create Scaler Object\n",
        "scaler = StandardScaler()\n",
        "\n",
        "numerical_features = ['Open', 'High', 'Low', 'Close', 'Volume']\n",
        "\n",
        "# Fit the scaler to the numerical features.\n",
        "scaler.fit(Stock_Nvidia_df[numerical_features])\n",
        "\n",
        "# Transform the data.\n",
        "Stock_Nvidia_df[numerical_features] = scaler.transform(Stock_Nvidia_df[numerical_features])\n",
        "\n",
        "# Create the tensor of input features\n",
        "X = torch.tensor(Stock_Nvidia_df[numerical_features].values, dtype=torch.float32)\n",
        "Y = torch.tensor(Stock_Nvidia_df['Close'].values, dtype=torch.float32)\n"
      ],
      "metadata": {
        "id": "MaP07HGTY1ED"
      },
      "execution_count": null,
      "outputs": []
    },
    {
      "cell_type": "code",
      "source": [
        "# Train the model of the dataset.\n",
        "x_train, x_test, y_train, y_test = train_test_split(X,Y, test_size=0.2, random_state=42)"
      ],
      "metadata": {
        "id": "XOHzFCamisCS"
      },
      "execution_count": null,
      "outputs": []
    },
    {
      "cell_type": "code",
      "source": [
        "# set a random seed.\n",
        "torch.manual_seed(42)\n",
        "\n",
        "# Define the model using nn.Sequential.\n",
        "model = nn.Sequential(\n",
        "    nn.Linear(5, 10),\n",
        "    nn.ReLU(),\n",
        "    nn.Linear(10, 1),\n",
        "    nn.Sigmoid()\n",
        ")\n",
        "\n",
        "# MSE Loss Function + optimizer.\n",
        "loss_fn = nn.MSELoss()\n",
        "optimizer = optim.Adam(model.parameters(), lr=0.001)\n",
        "\n",
        "num_epochs = 1000\n",
        "\n",
        "epoch_format = 'Epoch[{0}'+ str(num_epochs)+'], MSE Loss:{1}'\n",
        "\n",
        "for epoch in range(num_epochs):\n",
        "  predictions = model(x_train)\n",
        "  MSE = loss_fn(predictions, y_train)\n",
        "  MSE.backward()\n",
        "  optimizer.step()\n",
        "  optimizer.zero_grad()\n",
        "\n",
        "  if (epoch + 1) % 100 == 0:\n",
        "    print(epoch_format.format(epoch + 1, MSE.item()))\n",
        "\n",
        "\n",
        "\n"
      ],
      "metadata": {
        "colab": {
          "base_uri": "https://localhost:8080/"
        },
        "id": "_eIPSowKi9b6",
        "outputId": "7ab80670-60a7-49bc-b584-7711e57abde9"
      },
      "execution_count": null,
      "outputs": [
        {
          "output_type": "stream",
          "name": "stdout",
          "text": [
            "Epoch[1001000], MSE Loss:1.2851313352584839\n",
            "Epoch[2001000], MSE Loss:1.153443455696106\n",
            "Epoch[3001000], MSE Loss:1.1113479137420654\n",
            "Epoch[4001000], MSE Loss:1.0959606170654297\n",
            "Epoch[5001000], MSE Loss:1.0884671211242676\n",
            "Epoch[6001000], MSE Loss:1.0841143131256104\n",
            "Epoch[7001000], MSE Loss:1.081347942352295\n",
            "Epoch[8001000], MSE Loss:1.079489827156067\n",
            "Epoch[9001000], MSE Loss:1.0781779289245605\n",
            "Epoch[10001000], MSE Loss:1.0772162675857544\n"
          ]
        }
      ]
    },
    {
      "cell_type": "code",
      "source": [
        "torch.save(model, 'model.pth')"
      ],
      "metadata": {
        "id": "fKTrPXKF9y6t"
      },
      "execution_count": null,
      "outputs": []
    },
    {
      "cell_type": "code",
      "source": [
        "load_model =  torch.load('model.pth')\n",
        "load_model.eval()\n",
        "with torch.no_grad():\n",
        "  predictions = load_model(x_test)\n",
        "  MSE = loss_fn(predictions, y_test)\n",
        "  print(MSE)\n",
        "\n",
        "  **** Note: I use tensor(pytorch) the format load model will not use the format again because it is a privacy concern from Github. I am using google colab than jupyter notebook for my work. ****\n"
      ],
      "metadata": {
        "colab": {
          "base_uri": "https://localhost:8080/"
        },
        "id": "RxxhzaZw-Aao",
        "outputId": "4fdae176-f305-478c-cc5f-4f4a28c2658c"
      },
      "execution_count": null,
      "outputs": [
        {
          "output_type": "stream",
          "name": "stdout",
          "text": [
            "tensor(0.7142)\n"
          ]
        },
        {
          "output_type": "stream",
          "name": "stderr",
          "text": [
            "<ipython-input-23-1dc574b945c3>:1: FutureWarning: You are using `torch.load` with `weights_only=False` (the current default value), which uses the default pickle module implicitly. It is possible to construct malicious pickle data which will execute arbitrary code during unpickling (See https://github.com/pytorch/pytorch/blob/main/SECURITY.md#untrusted-models for more details). In a future release, the default value for `weights_only` will be flipped to `True`. This limits the functions that could be executed during unpickling. Arbitrary objects will no longer be allowed to be loaded via this mode unless they are explicitly allowlisted by the user via `torch.serialization.add_safe_globals`. We recommend you start setting `weights_only=True` for any use case where you don't have full control of the loaded file. Please open an issue on GitHub for any issues related to this experimental feature.\n",
            "  load_model =  torch.load('model.pth')\n"
          ]
        }
      ]
    },
    {
      "cell_type": "code",
      "source": [
        "# Data Visualization of the dataset of Nvidia.\n",
        "\n",
        "plt.figure(figsize=(12, 6))\n",
        "plt.scatter(Stock_Nvidia_df['Date'], Stock_Nvidia_df['Close'], label='Actual', color='blue')\n",
        "plt.plot(Stock_Nvidia_df['Date'], Stock_Nvidia_df['Close'].rolling(window=100).mean(), label='Moving Average', color='red')\n",
        "plt.gca().xaxis.set_major_locator(mdates.DayLocator(interval=10))\n",
        "plt.xlabel('Date')\n",
        "plt.xticks(rotation=45)\n",
        "plt.ylabel('Close Price')\n",
        "plt.title('Nvidia Stock Price')\n",
        "plt.legend()\n",
        "plt.show()\n",
        "\n",
        "\n"
      ],
      "metadata": {
        "colab": {
          "base_uri": "https://localhost:8080/",
          "height": 524
        },
        "id": "wRFmoztA-_V8",
        "outputId": "9d75d6f9-46c5-4e12-dfc0-b1c138573bde"
      },
      "execution_count": null,
      "outputs": [
        {
          "output_type": "display_data",
          "data": {
            "text/plain": [
              "<Figure size 1200x600 with 1 Axes>"
            ],
            "image/png": "[encoded data removed]"
          },
          "metadata": {}
        }
      ]
    }
  ]
}